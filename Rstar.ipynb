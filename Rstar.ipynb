{
 "cells": [
  {
   "cell_type": "markdown",
   "metadata": {},
   "source": [
    "The following notebook is for calculating the angular resolution and stellar radius of a star based off the parallax measurement from either Gaia or Hipparcos, as well as effective temperature and bolometric flux. It will also calculate the errors in each of these calculated values. Descriptions precede each section.\n",
    "\n",
    "---\n",
    "\n",
    "The first section loads relevant packages"
   ]
  },
  {
   "cell_type": "code",
   "execution_count": null,
   "metadata": {},
   "outputs": [],
   "source": [
    "import numpy\n",
    "from astropy import constants as c\n",
    "from astropy import units as u\n",
    "from astropy.coordinates import SkyCoord"
   ]
  },
  {
   "cell_type": "markdown",
   "metadata": {},
   "source": [
    "The first section is for making corrections to the Gaia parallax, in line with the paper by Stassun and Torres indicating a systematic bias in the parallax measurements from the Gaia DR1 data.  \n",
    "doi:10.3847/2041-8205/831/1/L6\n",
    "\n",
    "The coordinate string contains the RA and Dec of the star, and needs to be in hour angle and degrees, respectively.  \n",
    "pH is the Hipparcos parallax, and pG is the Gaia parallax. The units are required, and so switch out the numbers, for the star in question, and the appropriate parallax measurements."
   ]
  },
  {
   "cell_type": "code",
   "execution_count": null,
   "metadata": {
    "collapsed": true
   },
   "outputs": [],
   "source": [
    "CoordinateString='19 38 38.73445 +31 13 09.211'\n",
    "pH=8.73*u.mas\n",
    "pG=7.16*u.mas"
   ]
  },
  {
   "cell_type": "markdown",
   "metadata": {},
   "source": [
    "The following block will print the parallax (mas) and distance (pc) for four cases provided that all the necessary parameters were included above  \n",
    "* Hipparcos parallax\n",
    "* Gaia parallax (uncorrected)\n",
    "* Gaia parallax (corrected using the median systematic bias)  *recommended*\n",
    "* Gaia parallax (corrected using bias as a function of ecliptic latitude)"
   ]
  },
  {
   "cell_type": "code",
   "execution_count": null,
   "metadata": {},
   "outputs": [],
   "source": [
    "if pH:\n",
    "    print(\"Hipparcos:\", pH, pH.to(u.parsec, equivalencies=u.parallax()))\n",
    "          \n",
    "if pG:\n",
    "    print(\"Gaia:\", pG, pG.to(u.parsec, equivalencies=u.parallax()))\n",
    "    del_pi=-0.25*u.mas\n",
    "    corpG=(pG)-del_pi\n",
    "    print(\"Gaia cor:\", corpG, corpG.to(u.parsec, equivalencies=u.parallax()))\n",
    "    if CoordinateString:\n",
    "        eq_pos = SkyCoord(CoordinateString, unit=(u.hourangle, u.deg), frame='icrs')\n",
    "        ecl_degree=eq_pos.barycentrictrueecliptic.lat.value\n",
    "        #print \"Ecliptic latitude\", ecl_degree\n",
    "        del_pi=(-0.22-0.003*ecl_degree)*u.mas\n",
    "        corpG=(pG)-del_pi\n",
    "        print(\"Gaia Lat cor:\", corpG, corpG.to(u.parsec, equivalencies=u.parallax()))"
   ]
  },
  {
   "cell_type": "markdown",
   "metadata": {},
   "source": [
    "Input the values and errors on the stellar effective temperature (Teff), bolometric flux (Fbol), and parallax in the next block"
   ]
  },
  {
   "cell_type": "code",
   "execution_count": null,
   "metadata": {
    "collapsed": true
   },
   "outputs": [],
   "source": [
    "Teff=8800*u.K\n",
    "Terr=500*u.K\n",
    "Fbol=2.46* 10**-8*u.erg/u.s/u.cm**2\n",
    "Fbolerr=0.27* 10**-8*u.erg/u.s/u.cm**2\n",
    "parallax=7.41*u.mas\n",
    "parallaxerr=0.39*u.mas"
   ]
  },
  {
   "cell_type": "markdown",
   "metadata": {},
   "source": [
    "The final section will calculate the stellar angular diameter (mas), stellar distance (pc), and stellar radius (Solar radii) based off of the values entered above."
   ]
  },
  {
   "cell_type": "code",
   "execution_count": null,
   "metadata": {},
   "outputs": [],
   "source": [
    "angR= ((Fbol/(c.sigma_sb*Teff**4))**0.5).decompose()\n",
    "distance= parallax.to(u.parsec, equivalencies=u.parallax())\n",
    "radius=(angR*distance).to(u.solRad)\n",
    "print(\"Stellar angular diameter:\", (angR*u.rad).to(u.mas))\n",
    "print(\"Stellar distance:\", distance)\n",
    "print(\"Stellar radius:\", radius)\n",
    "\n",
    "A=(0.5*Fbolerr/Fbol)**2 #F_bol\n",
    "B=(2*Terr/Teff)**2 #Teff\n",
    "C=(parallaxerr/parallax)**2 #parallax\n",
    "print(\"Angular diameter error:\", ((A+B)**0.5)*(angR*u.rad).to(u.mas))\n",
    "print(\"Distance error:\", ((C)**0.5)*distance)\n",
    "print(\"Radius error:\", ((A+B+C)**0.5)*radius)"
   ]
  },
  {
   "cell_type": "raw",
   "metadata": {
    "collapsed": true
   },
   "source": []
  }
 ],
 "metadata": {
  "kernelspec": {
   "display_name": "Python 3",
   "language": "python",
   "name": "python3"
  },
  "language_info": {
   "codemirror_mode": {
    "name": "ipython",
    "version": 3
   },
   "file_extension": ".py",
   "mimetype": "text/x-python",
   "name": "python",
   "nbconvert_exporter": "python",
   "pygments_lexer": "ipython3",
   "version": "3.5.2"
  }
 },
 "nbformat": 4,
 "nbformat_minor": 1
}
