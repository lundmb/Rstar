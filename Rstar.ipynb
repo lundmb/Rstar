{
 "cells": [
  {
   "cell_type": "markdown",
   "metadata": {},
   "source": [
    "The following notebook is for calculating the angular resolution and stellar radius of a star based off the parallax measurement from either Gaia or Hipparcos, as well as effective temperature and bolometric flux. It will also calculate the errors in each of these calculated values. Descriptions precede each section.\n",
    "\n",
    "---\n",
    "\n",
    "The first section loads relevant packages"
   ]
  },
  {
   "cell_type": "code",
   "execution_count": 1,
   "metadata": {
    "collapsed": false
   },
   "outputs": [
    {
     "name": "stderr",
     "output_type": "stream",
     "text": [
      "WARNING: AstropyDeprecationWarning: Config parameter 'name_resolve_timeout' in section [coordinates.name_resolve] of the file '/home/mike/.astropy/config/astropy.cfg' is deprecated. Use 'remote_timeout' in section [utils.data] instead. [astropy.config.configuration]\n",
      "WARNING: AstropyDeprecationWarning: Config parameter 'remote_timeout' in section [utils.data] of the file '/home/mike/.astropy/config/astropy.cfg' is given by more than one alias (astropy.utils.data.remote_timeout, coordinates.name_resolve.name_resolve_timeout). Using the first. [astropy.config.configuration]\n"
     ]
    }
   ],
   "source": [
    "import numpy\n",
    "from astropy import constants as c\n",
    "from astropy import units as u\n",
    "from astropy.coordinates import SkyCoord"
   ]
  },
  {
   "cell_type": "markdown",
   "metadata": {},
   "source": [
    "The first section is for making corrections to the Gaia parallax, in line with the paper by Stassun and Torres indicating a systematic bias in the parallax measurements from the Gaia DR1 data.  \n",
    "doi:10.3847/2041-8205/831/1/L6\n",
    "\n",
    "The coordinate string contains the RA and Dec of the star, and needs to be in hour angle and degrees, respectively.  \n",
    "pH is the Hipparcos parallax, and pG is the Gaia parallax. The units are required, and so switch out the numbers, for the star in question, and the appropriate parallax measurements."
   ]
  },
  {
   "cell_type": "code",
   "execution_count": 2,
   "metadata": {
    "collapsed": false
   },
   "outputs": [],
   "source": [
    "CoordinateString='19 38 38.73445 +31 13 09.211'\n",
    "pH=8.73*u.mas\n",
    "pG=7.16*u.mas"
   ]
  },
  {
   "cell_type": "markdown",
   "metadata": {},
   "source": [
    "The following block will print the parallax (mas) and distance (pc) for four cases provided that all the necessary parameters were included above  \n",
    "* Hipparcos parallax\n",
    "* Gaia parallax (uncorrected)\n",
    "* Gaia parallax (corrected using the median systematic bias)  *recommended*\n",
    "* Gaia parallax (corrected using bias as a function of ecliptic latitude)"
   ]
  },
  {
   "cell_type": "code",
   "execution_count": 3,
   "metadata": {
    "collapsed": false
   },
   "outputs": [
    {
     "name": "stdout",
     "output_type": "stream",
     "text": [
      "Hipparcos: 8.73 mas 114.547537228 pc\n",
      "Gaia: 7.16 mas 139.664804469 pc\n",
      "Gaia cor: 7.41 mas 134.952766532 pc\n",
      "Gaia Lat cor: 7.53508034903 mas 132.712586154 pc\n"
     ]
    },
    {
     "name": "stderr",
     "output_type": "stream",
     "text": [
      "WARNING: Couldn't write lextab module u'angle_lextab'. [Errno 13] Permission denied: u'/usr/local/lib/python2.7/dist-packages/astropy/coordinates/angle_lextab.py'\n",
      "WARNING: Couldn't create u'angle_parsetab'. [Errno 13] Permission denied: u'/usr/local/lib/python2.7/dist-packages/astropy/coordinates/angle_parsetab.py'\n"
     ]
    }
   ],
   "source": [
    "if pH:\n",
    "    print \"Hipparcos:\", pH, pH.to(u.parsec, equivalencies=u.parallax())\n",
    "          \n",
    "if pG:\n",
    "    print \"Gaia:\", pG, pG.to(u.parsec, equivalencies=u.parallax())\n",
    "    del_pi=-0.25*u.mas\n",
    "    corpG=(pG)-del_pi\n",
    "    print \"Gaia cor:\", corpG, corpG.to(u.parsec, equivalencies=u.parallax())\n",
    "    if CoordinateString:\n",
    "        eq_pos = SkyCoord(CoordinateString, unit=(u.hourangle, u.deg), frame='icrs')\n",
    "        ecl_degree=eq_pos.barycentrictrueecliptic.lat.value\n",
    "        #print \"Ecliptic latitude\", ecl_degree\n",
    "        del_pi=(-0.22-0.003*ecl_degree)*u.mas\n",
    "        corpG=(pG)-del_pi\n",
    "        print \"Gaia Lat cor:\", corpG, corpG.to(u.parsec, equivalencies=u.parallax())"
   ]
  },
  {
   "cell_type": "markdown",
   "metadata": {},
   "source": [
    "Input the values and errors on the stellar effective temperature (Teff), bolometric flux (Fbol), and parallax in the next block"
   ]
  },
  {
   "cell_type": "code",
   "execution_count": 6,
   "metadata": {
    "collapsed": true
   },
   "outputs": [],
   "source": [
    "Teff=8800*u.K\n",
    "Terr=500*u.K\n",
    "Fbol=2.46* 10**-8*u.erg/u.s/u.cm**2\n",
    "Fbolerr=0.27* 10**-8*u.erg/u.s/u.cm**2\n",
    "parallax=7.41*u.mas\n",
    "parallaxerr=0.39*u.mas"
   ]
  },
  {
   "cell_type": "markdown",
   "metadata": {},
   "source": [
    "The final section will calculate the stellar angular diameter (mas), stellar distance (pc), and stellar radius (Solar radii) based off of the values entered above."
   ]
  },
  {
   "cell_type": "code",
   "execution_count": 7,
   "metadata": {
    "collapsed": false
   },
   "outputs": [
    {
     "name": "stdout",
     "output_type": "stream",
     "text": [
      "Stellar angular diameter: 0.0554780935373 mas\n",
      "Stellar distance: 134.952766532 pc\n",
      "Stellar radius: 1.61037345353 solRad\n",
      "Angular diameter error: 0.0070009800583 mas\n",
      "Distance error: 7.10277718588 pc\n",
      "Radius error: 0.220185264499 solRad\n"
     ]
    }
   ],
   "source": [
    "angR= ((Fbol/(c.sigma_sb*Teff**4))**0.5).decompose()\n",
    "distance= parallax.to(u.parsec, equivalencies=u.parallax())\n",
    "radius=(angR*distance).to(u.solRad)\n",
    "print \"Stellar angular diameter:\", (angR*u.rad).to(u.mas)\n",
    "print \"Stellar distance:\", distance\n",
    "print \"Stellar radius:\", radius\n",
    "\n",
    "A=(0.5*Fbolerr/Fbol)**2 #F_bol\n",
    "B=(2*Terr/Teff)**2 #Teff\n",
    "C=(parallaxerr/parallax)**2 #parallax\n",
    "print \"Angular diameter error:\", ((A+B)**0.5)*(angR*u.rad).to(u.mas)\n",
    "print \"Distance error:\", ((C)**0.5)*distance\n",
    "print \"Radius error:\", ((A+B+C)**0.5)*radius"
   ]
  },
  {
   "cell_type": "raw",
   "metadata": {
    "collapsed": true
   },
   "source": [
    "eq= const * Fbol**0.5 * Teff**-2 ** corpG**-1\n",
    "\n",
    "(delR/R)^2 = 0.5*(delF/F)^2 + 2*(delT/T)^2 + (delG/G)^2\n",
    "\n",
    "Teff = 8800 +/- 500 K\n",
    "Fbol = 2.46-0.15+0.27 x 10^-8 erg/s/cm2\n",
    "Pi=7.16 \\pm 0.34 mas (Gaia)"
   ]
  },
  {
   "cell_type": "code",
   "execution_count": null,
   "metadata": {
    "collapsed": true
   },
   "outputs": [],
   "source": []
  }
 ],
 "metadata": {
  "kernelspec": {
   "display_name": "Python 2",
   "language": "python",
   "name": "python2"
  },
  "language_info": {
   "codemirror_mode": {
    "name": "ipython",
    "version": 2
   },
   "file_extension": ".py",
   "mimetype": "text/x-python",
   "name": "python",
   "nbconvert_exporter": "python",
   "pygments_lexer": "ipython2",
   "version": "2.7.12"
  }
 },
 "nbformat": 4,
 "nbformat_minor": 1
}
